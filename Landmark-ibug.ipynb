{
 "cells": [
  {
   "cell_type": "code",
   "execution_count": 2,
   "metadata": {
    "collapsed": false,
    "deletable": true,
    "editable": true
   },
   "outputs": [],
   "source": [
    "import menpo.io as pio"
   ]
  },
  {
   "cell_type": "code",
   "execution_count": 4,
   "metadata": {
    "collapsed": false,
    "deletable": true,
    "editable": true
   },
   "outputs": [],
   "source": [
    "images = list(pio.import_images('./resources/images/*.jpg', max_images=2))\n",
    "img = images[0]"
   ]
  },
  {
   "cell_type": "code",
   "execution_count": 6,
   "metadata": {
    "collapsed": false
   },
   "outputs": [
    {
     "name": "stdout",
     "output_type": "stream",
     "text": [
      "Is img landmarked?\n",
      " - False\n",
      "How many landmark groups does it have?\n",
      " - 0\n",
      "What labels do these groups have?\n"
     ]
    }
   ],
   "source": [
    "\n",
    "print('Is img landmarked?')\n",
    "print(' - {}'.format(img.landmarks.has_landmarks) )\n",
    "\n",
    "print('How many landmark groups does it have?')\n",
    "print(' - {}'.format(img.landmarks.n_groups) )\n",
    "    \n",
    "print('What labels do these groups have?')\n",
    "for g in img.landmarks.group_labels:\n",
    "    print(' - {}'.format(g))"
   ]
  },
  {
   "cell_type": "code",
   "execution_count": 9,
   "metadata": {
    "collapsed": false
   },
   "outputs": [
    {
     "ename": "ImportError",
     "evalue": "cannot import name 'ibug_68_points'",
     "output_type": "error",
     "traceback": [
      "\u001b[0;31m---------------------------------------------------------------------------\u001b[0m",
      "\u001b[0;31mImportError\u001b[0m                               Traceback (most recent call last)",
      "\u001b[0;32m<ipython-input-9-cb0a8603db69>\u001b[0m in \u001b[0;36m<module>\u001b[0;34m()\u001b[0m\n\u001b[0;32m----> 1\u001b[0;31m \u001b[1;32mfrom\u001b[0m \u001b[0mmenpo\u001b[0m\u001b[1;33m.\u001b[0m\u001b[0mlandmark\u001b[0m\u001b[1;33m.\u001b[0m\u001b[0mlabels\u001b[0m \u001b[1;32mimport\u001b[0m \u001b[0mlabeller\u001b[0m\u001b[1;33m,\u001b[0m \u001b[0mibug_68_points\u001b[0m\u001b[1;33m\u001b[0m\u001b[0m\n\u001b[0m\u001b[1;32m      2\u001b[0m \u001b[1;33m\u001b[0m\u001b[0m\n\u001b[1;32m      3\u001b[0m \u001b[1;31m# Label some landmarks\u001b[0m\u001b[1;33m\u001b[0m\u001b[1;33m\u001b[0m\u001b[0m\n\u001b[1;32m      4\u001b[0m \u001b[0mimages\u001b[0m \u001b[1;33m=\u001b[0m \u001b[0mlabeller\u001b[0m\u001b[1;33m(\u001b[0m\u001b[0mimages\u001b[0m\u001b[1;33m,\u001b[0m \u001b[1;34m'PTS'\u001b[0m\u001b[1;33m,\u001b[0m \u001b[0mibug_68_points\u001b[0m\u001b[1;33m)\u001b[0m\u001b[1;33m\u001b[0m\u001b[0m\n\u001b[1;32m      5\u001b[0m \u001b[1;33m\u001b[0m\u001b[0m\n",
      "\u001b[0;31mImportError\u001b[0m: cannot import name 'ibug_68_points'"
     ]
    }
   ],
   "source": [
    "from menpo.landmark.labels import labeller, ibug_68_points\n",
    "\n",
    "# Label some landmarks\n",
    "images = labeller(images, 'PTS', ibug_68_points)\n",
    "\n",
    "print('How many landmark groups does it have?')\n",
    "print( ' - {}'.format(img.landmarks.n_groups) )\n",
    "    \n",
    "print('What labels do these groups have?')\n",
    "for g in img.landmarks.group_labels:\n",
    "    print(' - {}'.format(g))\n",
    "\n",
    "print('ibug_68_points semantic labels are?')\n",
    "for l in img.landmarks['ibug_68_points'].labels:\n",
    "    print( ' - {}'.format(l))"
   ]
  },
  {
   "cell_type": "code",
   "execution_count": null,
   "metadata": {
    "collapsed": true
   },
   "outputs": [],
   "source": []
  }
 ],
 "metadata": {
  "kernelspec": {
   "display_name": "Python 3",
   "language": "python",
   "name": "python3"
  },
  "language_info": {
   "codemirror_mode": {
    "name": "ipython",
    "version": 3
   },
   "file_extension": ".py",
   "mimetype": "text/x-python",
   "name": "python",
   "nbconvert_exporter": "python",
   "pygments_lexer": "ipython3",
   "version": "3.5.2"
  }
 },
 "nbformat": 4,
 "nbformat_minor": 2
}
